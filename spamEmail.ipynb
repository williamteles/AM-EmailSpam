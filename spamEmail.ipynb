{
 "metadata": {
  "language_info": {
   "codemirror_mode": {
    "name": "ipython",
    "version": 3
   },
   "file_extension": ".py",
   "mimetype": "text/x-python",
   "name": "python",
   "nbconvert_exporter": "python",
   "pygments_lexer": "ipython3",
   "version": "3.9.2"
  },
  "orig_nbformat": 4,
  "kernelspec": {
   "name": "python3",
   "display_name": "Python 3.9.2 64-bit ('venv': venv)"
  },
  "interpreter": {
   "hash": "9335a0a1043f9c5b956d3c036e9820196951ccfeb08c5dc53fb69c1440bc965c"
  }
 },
 "nbformat": 4,
 "nbformat_minor": 2,
 "cells": [
  {
   "cell_type": "code",
   "execution_count": 1,
   "source": [
    "import numpy as np\n",
    "import pandas as pd\n",
    "import matplotlib.pyplot as plt\n",
    "\n",
    "from sklearn.tree import DecisionTreeClassifier\n",
    "from sklearn.neural_network import MLPClassifier\n",
    "from sklearn.preprocessing import StandardScaler\n",
    "from sklearn.model_selection import train_test_split\n",
    "from sklearn.metrics import accuracy_score, confusion_matrix, f1_score, precision_score\n",
    "from sklearn.model_selection import StratifiedKFold\n"
   ],
   "outputs": [],
   "metadata": {}
  },
  {
   "cell_type": "code",
   "execution_count": 2,
   "source": [
    "\n",
    "df = pd.read_csv('./spambase/spambase.data', delimiter=';')\n",
    "df.head()\n"
   ],
   "outputs": [
    {
     "output_type": "execute_result",
     "data": {
      "text/plain": [
       "   word_freq_make  word_freq_address  word_freq_all  word_freq_3d  \\\n",
       "0            0.00               0.64           0.64           0.0   \n",
       "1            0.21               0.28           0.50           0.0   \n",
       "2            0.06               0.00           0.71           0.0   \n",
       "3            0.00               0.00           0.00           0.0   \n",
       "4            0.00               0.00           0.00           0.0   \n",
       "\n",
       "   word_freq_our  word_freq_over  word_freq_remove  word_freq_internet  \\\n",
       "0           0.32            0.00              0.00                0.00   \n",
       "1           0.14            0.28              0.21                0.07   \n",
       "2           1.23            0.19              0.19                0.12   \n",
       "3           0.63            0.00              0.31                0.63   \n",
       "4           0.63            0.00              0.31                0.63   \n",
       "\n",
       "   word_freq_order  word_freq_mail  ...  char_freq_;  char_freq_(  \\\n",
       "0             0.00            0.00  ...         0.00        0.000   \n",
       "1             0.00            0.94  ...         0.00        0.132   \n",
       "2             0.64            0.25  ...         0.01        0.143   \n",
       "3             0.31            0.63  ...         0.00        0.137   \n",
       "4             0.31            0.63  ...         0.00        0.135   \n",
       "\n",
       "   char_freq_[  char_freq_!  char_freq_$  char_freq_#  \\\n",
       "0          0.0        0.778        0.000        0.000   \n",
       "1          0.0        0.372        0.180        0.048   \n",
       "2          0.0        0.276        0.184        0.010   \n",
       "3          0.0        0.137        0.000        0.000   \n",
       "4          0.0        0.135        0.000        0.000   \n",
       "\n",
       "   capital_run_length_average  capital_run_length_longest  \\\n",
       "0                       3.756                          61   \n",
       "1                       5.114                         101   \n",
       "2                       9.821                         485   \n",
       "3                       3.537                          40   \n",
       "4                       3.537                          40   \n",
       "\n",
       "   capital_run_length_total  spam_class  \n",
       "0                       278           1  \n",
       "1                      1028           1  \n",
       "2                      2259           1  \n",
       "3                       191           1  \n",
       "4                       191           1  \n",
       "\n",
       "[5 rows x 58 columns]"
      ],
      "text/html": "<div>\n<style scoped>\n    .dataframe tbody tr th:only-of-type {\n        vertical-align: middle;\n    }\n\n    .dataframe tbody tr th {\n        vertical-align: top;\n    }\n\n    .dataframe thead th {\n        text-align: right;\n    }\n</style>\n<table border=\"1\" class=\"dataframe\">\n  <thead>\n    <tr style=\"text-align: right;\">\n      <th></th>\n      <th>word_freq_make</th>\n      <th>word_freq_address</th>\n      <th>word_freq_all</th>\n      <th>word_freq_3d</th>\n      <th>word_freq_our</th>\n      <th>word_freq_over</th>\n      <th>word_freq_remove</th>\n      <th>word_freq_internet</th>\n      <th>word_freq_order</th>\n      <th>word_freq_mail</th>\n      <th>...</th>\n      <th>char_freq_;</th>\n      <th>char_freq_(</th>\n      <th>char_freq_[</th>\n      <th>char_freq_!</th>\n      <th>char_freq_$</th>\n      <th>char_freq_#</th>\n      <th>capital_run_length_average</th>\n      <th>capital_run_length_longest</th>\n      <th>capital_run_length_total</th>\n      <th>spam_class</th>\n    </tr>\n  </thead>\n  <tbody>\n    <tr>\n      <th>0</th>\n      <td>0.00</td>\n      <td>0.64</td>\n      <td>0.64</td>\n      <td>0.0</td>\n      <td>0.32</td>\n      <td>0.00</td>\n      <td>0.00</td>\n      <td>0.00</td>\n      <td>0.00</td>\n      <td>0.00</td>\n      <td>...</td>\n      <td>0.00</td>\n      <td>0.000</td>\n      <td>0.0</td>\n      <td>0.778</td>\n      <td>0.000</td>\n      <td>0.000</td>\n      <td>3.756</td>\n      <td>61</td>\n      <td>278</td>\n      <td>1</td>\n    </tr>\n    <tr>\n      <th>1</th>\n      <td>0.21</td>\n      <td>0.28</td>\n      <td>0.50</td>\n      <td>0.0</td>\n      <td>0.14</td>\n      <td>0.28</td>\n      <td>0.21</td>\n      <td>0.07</td>\n      <td>0.00</td>\n      <td>0.94</td>\n      <td>...</td>\n      <td>0.00</td>\n      <td>0.132</td>\n      <td>0.0</td>\n      <td>0.372</td>\n      <td>0.180</td>\n      <td>0.048</td>\n      <td>5.114</td>\n      <td>101</td>\n      <td>1028</td>\n      <td>1</td>\n    </tr>\n    <tr>\n      <th>2</th>\n      <td>0.06</td>\n      <td>0.00</td>\n      <td>0.71</td>\n      <td>0.0</td>\n      <td>1.23</td>\n      <td>0.19</td>\n      <td>0.19</td>\n      <td>0.12</td>\n      <td>0.64</td>\n      <td>0.25</td>\n      <td>...</td>\n      <td>0.01</td>\n      <td>0.143</td>\n      <td>0.0</td>\n      <td>0.276</td>\n      <td>0.184</td>\n      <td>0.010</td>\n      <td>9.821</td>\n      <td>485</td>\n      <td>2259</td>\n      <td>1</td>\n    </tr>\n    <tr>\n      <th>3</th>\n      <td>0.00</td>\n      <td>0.00</td>\n      <td>0.00</td>\n      <td>0.0</td>\n      <td>0.63</td>\n      <td>0.00</td>\n      <td>0.31</td>\n      <td>0.63</td>\n      <td>0.31</td>\n      <td>0.63</td>\n      <td>...</td>\n      <td>0.00</td>\n      <td>0.137</td>\n      <td>0.0</td>\n      <td>0.137</td>\n      <td>0.000</td>\n      <td>0.000</td>\n      <td>3.537</td>\n      <td>40</td>\n      <td>191</td>\n      <td>1</td>\n    </tr>\n    <tr>\n      <th>4</th>\n      <td>0.00</td>\n      <td>0.00</td>\n      <td>0.00</td>\n      <td>0.0</td>\n      <td>0.63</td>\n      <td>0.00</td>\n      <td>0.31</td>\n      <td>0.63</td>\n      <td>0.31</td>\n      <td>0.63</td>\n      <td>...</td>\n      <td>0.00</td>\n      <td>0.135</td>\n      <td>0.0</td>\n      <td>0.135</td>\n      <td>0.000</td>\n      <td>0.000</td>\n      <td>3.537</td>\n      <td>40</td>\n      <td>191</td>\n      <td>1</td>\n    </tr>\n  </tbody>\n</table>\n<p>5 rows × 58 columns</p>\n</div>"
     },
     "metadata": {},
     "execution_count": 2
    }
   ],
   "metadata": {}
  },
  {
   "cell_type": "code",
   "execution_count": 3,
   "source": [
    "df.shape"
   ],
   "outputs": [
    {
     "output_type": "execute_result",
     "data": {
      "text/plain": [
       "(4601, 58)"
      ]
     },
     "metadata": {},
     "execution_count": 3
    }
   ],
   "metadata": {}
  },
  {
   "cell_type": "code",
   "execution_count": null,
   "source": [
    "for label in df.columns[:-1]:\n",
    "    plt.scatter(df['spam_class'], df[label])\n",
    "    plt.xticks(np.arange(0, 2, step = 1))\n",
    "    plt.title(label)\n",
    "    plt.xlabel('spam_class')\n",
    "    plt.ylabel(label)\n",
    "    plt.savefig('imgs/scatterplot/'+'scatterplot'.join(label.split(' ')))\n",
    "    plt.show()"
   ],
   "outputs": [],
   "metadata": {}
  },
  {
   "cell_type": "code",
   "execution_count": null,
   "source": [
    "for i in df.columns[:-1]:\n",
    "    media = np.mean(df[i])\n",
    "    desvpad = np.std(df[i])\n",
    "\n",
    "    print(f'{i}')\n",
    "    print(f'media : {media}')\n",
    "    print(f'desvio padrão : {desvpad}')\n",
    "    print('-------')"
   ],
   "outputs": [],
   "metadata": {}
  },
  {
   "source": [
    "x = df[df.columns[:-1]].values\n",
    "y = df['spam_class'].values"
   ],
   "cell_type": "code",
   "metadata": {},
   "execution_count": 4,
   "outputs": []
  },
  {
   "cell_type": "code",
   "execution_count": 5,
   "source": [
    "model1 = [DecisionTreeClassifier(), \"Decision Tree\"]\n",
    "model2 = [MLPClassifier(hidden_layer_sizes=(10,2), max_iter=1000), \"MLP\"]\n",
    "\n",
    "models = [model1,model2]"
   ],
   "outputs": [],
   "metadata": {}
  },
  {
   "cell_type": "code",
   "execution_count": 6,
   "metadata": {},
   "outputs": [
    {
     "output_type": "stream",
     "name": "stdout",
     "text": [
      "[[264  15]\n",
      " [ 26 156]]\n",
      "\n",
      "[[263  15]\n",
      " [ 27 155]]\n",
      "\n",
      "[[257  21]\n",
      " [ 27 155]]\n",
      "\n",
      "[[261  18]\n",
      " [ 25 156]]\n",
      "\n",
      "[[260  19]\n",
      " [ 16 165]]\n",
      "\n",
      "[[261  18]\n",
      " [ 14 167]]\n",
      "\n",
      "[[272   7]\n",
      " [ 21 160]]\n",
      "\n",
      "[[254  25]\n",
      " [ 16 165]]\n",
      "\n",
      "[[230  49]\n",
      " [ 21 160]]\n",
      "\n",
      "[[217  62]\n",
      " [ 30 151]]\n",
      "\n",
      "Decision Tree, Accuracy:\t0.90 +/- 0.04\n",
      "Decision Tree, F1 Score:\t0.87 +/- 0.04\n",
      "Decision Tree, Precision:\t0.87 +/- 0.07\n",
      "------------------------------------------------------------\n",
      "[[250  29]\n",
      " [ 15 167]]\n",
      "\n",
      "[[230  48]\n",
      " [  8 174]]\n",
      "\n",
      "[[259  19]\n",
      " [ 16 166]]\n",
      "\n",
      "[[247  32]\n",
      " [ 11 170]]\n",
      "\n",
      "[[264  15]\n",
      " [ 14 167]]\n",
      "\n",
      "[[258  21]\n",
      " [  9 172]]\n",
      "\n",
      "[[275   4]\n",
      " [ 14 167]]\n",
      "\n",
      "[[271   8]\n",
      " [ 12 169]]\n",
      "\n",
      "[[253  26]\n",
      " [ 18 163]]\n",
      "\n",
      "[[241  38]\n",
      " [ 31 150]]\n",
      "\n",
      "MLP, Accuracy:\t0.92 +/- 0.03\n",
      "MLP, F1 Score:\t0.90 +/- 0.04\n",
      "MLP, Precision:\t0.88 +/- 0.06\n",
      "------------------------------------------------------------\n"
     ]
    }
   ],
   "source": [
    "skf = StratifiedKFold(n_splits=10)\n",
    "\n",
    "for mod in models:\n",
    "    acc = []\n",
    "    f1 = []\n",
    "    precision = []\n",
    "\n",
    "    for train_indexs, test_indexs in skf.split(x, y):\n",
    "        x_train, y_train = x[train_indexs], y[train_indexs]\n",
    "        x_test, y_test = x[test_indexs], y[test_indexs]\n",
    "        model = mod[0]\n",
    "        model.fit(x_train, y_train)\n",
    "        y_predicted = model.predict(x_test)\n",
    "        accuracy = accuracy_score(y_test, y_predicted)\n",
    "        f1_scr = f1_score(y_test, y_predicted)\n",
    "        prec_score = precision_score(y_test, y_predicted)\n",
    "        matrix = confusion_matrix(y_test, y_predicted)\n",
    "        acc.append(accuracy)\n",
    "        f1.append(f1_scr)\n",
    "        precision.append(prec_score)\n",
    "        print(matrix)\n",
    "        print()\n",
    "\n",
    "    print(f\"{mod[1]}, Accuracy:\\t{np.mean(acc):.2f} +/- {np.std(acc):.2f}\")\n",
    "    print(f\"{mod[1]}, F1 Score:\\t{np.mean(f1):.2f} +/- {np.std(f1):.2f}\")\n",
    "    print(f\"{mod[1]}, Precision:\\t{np.mean(precision):.2f} +/- {np.std(precision):.2f}\")\n",
    "    print(\"-\"*60)"
   ]
  },
  {
   "cell_type": "code",
   "execution_count": null,
   "metadata": {},
   "outputs": [],
   "source": []
  }
 ]
}