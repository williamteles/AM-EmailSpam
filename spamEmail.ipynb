{
 "metadata": {
  "language_info": {
   "codemirror_mode": {
    "name": "ipython",
    "version": 3
   },
   "file_extension": ".py",
   "mimetype": "text/x-python",
   "name": "python",
   "nbconvert_exporter": "python",
   "pygments_lexer": "ipython3",
   "version": "3.9.2"
  },
  "orig_nbformat": 4,
  "kernelspec": {
   "name": "python3",
   "display_name": "Python 3.9.2 64-bit ('venv': venv)"
  },
  "interpreter": {
   "hash": "9335a0a1043f9c5b956d3c036e9820196951ccfeb08c5dc53fb69c1440bc965c"
  }
 },
 "nbformat": 4,
 "nbformat_minor": 2,
 "cells": [
  {
   "cell_type": "code",
   "execution_count": 1,
   "source": [
    "import numpy as np\r\n",
    "import pandas as pd\r\n",
    "import matplotlib.pyplot as plt\r\n",
    "\r\n",
    "from sklearn.tree import DecisionTreeClassifier\r\n",
    "from sklearn.neural_network import MLPClassifier\r\n",
    "from sklearn.ensemble import RandomForestClassifier\r\n",
    "from sklearn.svm import SVC\r\n",
    "from sklearn.preprocessing import StandardScaler\r\n",
    "from sklearn.metrics import accuracy_score, confusion_matrix, f1_score, precision_score\r\n",
    "from sklearn.model_selection import StratifiedKFold\r\n"
   ],
   "outputs": [],
   "metadata": {}
  },
  {
   "cell_type": "code",
   "execution_count": 2,
   "source": [
    "\r\n",
    "df = pd.read_csv('./spambase/spambase.data', delimiter=';')\r\n",
    "df.head()\r\n"
   ],
   "outputs": [
    {
     "output_type": "execute_result",
     "data": {
      "text/plain": [
       "   word_freq_make  word_freq_address  word_freq_all  word_freq_3d  \\\n",
       "0            0.00               0.64           0.64           0.0   \n",
       "1            0.21               0.28           0.50           0.0   \n",
       "2            0.06               0.00           0.71           0.0   \n",
       "3            0.00               0.00           0.00           0.0   \n",
       "4            0.00               0.00           0.00           0.0   \n",
       "\n",
       "   word_freq_our  word_freq_over  word_freq_remove  word_freq_internet  \\\n",
       "0           0.32            0.00              0.00                0.00   \n",
       "1           0.14            0.28              0.21                0.07   \n",
       "2           1.23            0.19              0.19                0.12   \n",
       "3           0.63            0.00              0.31                0.63   \n",
       "4           0.63            0.00              0.31                0.63   \n",
       "\n",
       "   word_freq_order  word_freq_mail  ...  char_freq_;  char_freq_(  \\\n",
       "0             0.00            0.00  ...         0.00        0.000   \n",
       "1             0.00            0.94  ...         0.00        0.132   \n",
       "2             0.64            0.25  ...         0.01        0.143   \n",
       "3             0.31            0.63  ...         0.00        0.137   \n",
       "4             0.31            0.63  ...         0.00        0.135   \n",
       "\n",
       "   char_freq_[  char_freq_!  char_freq_$  char_freq_#  \\\n",
       "0          0.0        0.778        0.000        0.000   \n",
       "1          0.0        0.372        0.180        0.048   \n",
       "2          0.0        0.276        0.184        0.010   \n",
       "3          0.0        0.137        0.000        0.000   \n",
       "4          0.0        0.135        0.000        0.000   \n",
       "\n",
       "   capital_run_length_average  capital_run_length_longest  \\\n",
       "0                       3.756                          61   \n",
       "1                       5.114                         101   \n",
       "2                       9.821                         485   \n",
       "3                       3.537                          40   \n",
       "4                       3.537                          40   \n",
       "\n",
       "   capital_run_length_total  spam_class  \n",
       "0                       278           1  \n",
       "1                      1028           1  \n",
       "2                      2259           1  \n",
       "3                       191           1  \n",
       "4                       191           1  \n",
       "\n",
       "[5 rows x 58 columns]"
      ],
      "text/html": [
       "<div>\n",
       "<style scoped>\n",
       "    .dataframe tbody tr th:only-of-type {\n",
       "        vertical-align: middle;\n",
       "    }\n",
       "\n",
       "    .dataframe tbody tr th {\n",
       "        vertical-align: top;\n",
       "    }\n",
       "\n",
       "    .dataframe thead th {\n",
       "        text-align: right;\n",
       "    }\n",
       "</style>\n",
       "<table border=\"1\" class=\"dataframe\">\n",
       "  <thead>\n",
       "    <tr style=\"text-align: right;\">\n",
       "      <th></th>\n",
       "      <th>word_freq_make</th>\n",
       "      <th>word_freq_address</th>\n",
       "      <th>word_freq_all</th>\n",
       "      <th>word_freq_3d</th>\n",
       "      <th>word_freq_our</th>\n",
       "      <th>word_freq_over</th>\n",
       "      <th>word_freq_remove</th>\n",
       "      <th>word_freq_internet</th>\n",
       "      <th>word_freq_order</th>\n",
       "      <th>word_freq_mail</th>\n",
       "      <th>...</th>\n",
       "      <th>char_freq_;</th>\n",
       "      <th>char_freq_(</th>\n",
       "      <th>char_freq_[</th>\n",
       "      <th>char_freq_!</th>\n",
       "      <th>char_freq_$</th>\n",
       "      <th>char_freq_#</th>\n",
       "      <th>capital_run_length_average</th>\n",
       "      <th>capital_run_length_longest</th>\n",
       "      <th>capital_run_length_total</th>\n",
       "      <th>spam_class</th>\n",
       "    </tr>\n",
       "  </thead>\n",
       "  <tbody>\n",
       "    <tr>\n",
       "      <th>0</th>\n",
       "      <td>0.00</td>\n",
       "      <td>0.64</td>\n",
       "      <td>0.64</td>\n",
       "      <td>0.0</td>\n",
       "      <td>0.32</td>\n",
       "      <td>0.00</td>\n",
       "      <td>0.00</td>\n",
       "      <td>0.00</td>\n",
       "      <td>0.00</td>\n",
       "      <td>0.00</td>\n",
       "      <td>...</td>\n",
       "      <td>0.00</td>\n",
       "      <td>0.000</td>\n",
       "      <td>0.0</td>\n",
       "      <td>0.778</td>\n",
       "      <td>0.000</td>\n",
       "      <td>0.000</td>\n",
       "      <td>3.756</td>\n",
       "      <td>61</td>\n",
       "      <td>278</td>\n",
       "      <td>1</td>\n",
       "    </tr>\n",
       "    <tr>\n",
       "      <th>1</th>\n",
       "      <td>0.21</td>\n",
       "      <td>0.28</td>\n",
       "      <td>0.50</td>\n",
       "      <td>0.0</td>\n",
       "      <td>0.14</td>\n",
       "      <td>0.28</td>\n",
       "      <td>0.21</td>\n",
       "      <td>0.07</td>\n",
       "      <td>0.00</td>\n",
       "      <td>0.94</td>\n",
       "      <td>...</td>\n",
       "      <td>0.00</td>\n",
       "      <td>0.132</td>\n",
       "      <td>0.0</td>\n",
       "      <td>0.372</td>\n",
       "      <td>0.180</td>\n",
       "      <td>0.048</td>\n",
       "      <td>5.114</td>\n",
       "      <td>101</td>\n",
       "      <td>1028</td>\n",
       "      <td>1</td>\n",
       "    </tr>\n",
       "    <tr>\n",
       "      <th>2</th>\n",
       "      <td>0.06</td>\n",
       "      <td>0.00</td>\n",
       "      <td>0.71</td>\n",
       "      <td>0.0</td>\n",
       "      <td>1.23</td>\n",
       "      <td>0.19</td>\n",
       "      <td>0.19</td>\n",
       "      <td>0.12</td>\n",
       "      <td>0.64</td>\n",
       "      <td>0.25</td>\n",
       "      <td>...</td>\n",
       "      <td>0.01</td>\n",
       "      <td>0.143</td>\n",
       "      <td>0.0</td>\n",
       "      <td>0.276</td>\n",
       "      <td>0.184</td>\n",
       "      <td>0.010</td>\n",
       "      <td>9.821</td>\n",
       "      <td>485</td>\n",
       "      <td>2259</td>\n",
       "      <td>1</td>\n",
       "    </tr>\n",
       "    <tr>\n",
       "      <th>3</th>\n",
       "      <td>0.00</td>\n",
       "      <td>0.00</td>\n",
       "      <td>0.00</td>\n",
       "      <td>0.0</td>\n",
       "      <td>0.63</td>\n",
       "      <td>0.00</td>\n",
       "      <td>0.31</td>\n",
       "      <td>0.63</td>\n",
       "      <td>0.31</td>\n",
       "      <td>0.63</td>\n",
       "      <td>...</td>\n",
       "      <td>0.00</td>\n",
       "      <td>0.137</td>\n",
       "      <td>0.0</td>\n",
       "      <td>0.137</td>\n",
       "      <td>0.000</td>\n",
       "      <td>0.000</td>\n",
       "      <td>3.537</td>\n",
       "      <td>40</td>\n",
       "      <td>191</td>\n",
       "      <td>1</td>\n",
       "    </tr>\n",
       "    <tr>\n",
       "      <th>4</th>\n",
       "      <td>0.00</td>\n",
       "      <td>0.00</td>\n",
       "      <td>0.00</td>\n",
       "      <td>0.0</td>\n",
       "      <td>0.63</td>\n",
       "      <td>0.00</td>\n",
       "      <td>0.31</td>\n",
       "      <td>0.63</td>\n",
       "      <td>0.31</td>\n",
       "      <td>0.63</td>\n",
       "      <td>...</td>\n",
       "      <td>0.00</td>\n",
       "      <td>0.135</td>\n",
       "      <td>0.0</td>\n",
       "      <td>0.135</td>\n",
       "      <td>0.000</td>\n",
       "      <td>0.000</td>\n",
       "      <td>3.537</td>\n",
       "      <td>40</td>\n",
       "      <td>191</td>\n",
       "      <td>1</td>\n",
       "    </tr>\n",
       "  </tbody>\n",
       "</table>\n",
       "<p>5 rows × 58 columns</p>\n",
       "</div>"
      ]
     },
     "metadata": {},
     "execution_count": 2
    }
   ],
   "metadata": {}
  },
  {
   "cell_type": "code",
   "execution_count": 3,
   "source": [
    "df.shape"
   ],
   "outputs": [
    {
     "output_type": "execute_result",
     "data": {
      "text/plain": [
       "(4601, 58)"
      ]
     },
     "metadata": {},
     "execution_count": 3
    }
   ],
   "metadata": {}
  },
  {
   "cell_type": "code",
   "execution_count": 4,
   "source": [
    "columns_list = []\r\n",
    "for i in df.columns[:-1]:\r\n",
    "    media = np.mean(df[i])\r\n",
    "    desvpad = np.std(df[i])\r\n",
    "    if (desvpad > media * 3 and desvpad > 1):\r\n",
    "        print(f'{i}')\r\n",
    "        print(f'media : {media}')\r\n",
    "        print(f'desvio padrão : {desvpad}')\r\n",
    "        print('-------')\r\n",
    "        columns_list.append(i)"
   ],
   "outputs": [
    {
     "output_type": "stream",
     "name": "stdout",
     "text": [
      "word_freq_address\n",
      "media : 0.21301456205172786\n",
      "desvio padrão : 1.2904349339008443\n",
      "-------\n",
      "word_freq_3d\n",
      "media : 0.06542490762877635\n",
      "desvio padrão : 1.394999748325344\n",
      "-------\n",
      "word_freq_font\n",
      "media : 0.12120191262768963\n",
      "desvio padrão : 1.0256441144337263\n",
      "-------\n",
      "word_freq_hp\n",
      "media : 0.5495044555531406\n",
      "desvio padrão : 1.6711677034900316\n",
      "-------\n",
      "word_freq_george\n",
      "media : 0.767304933710063\n",
      "desvio padrão : 3.3669258521388494\n",
      "-------\n",
      "word_freq_re\n",
      "media : 0.30122364703325366\n",
      "desvio padrão : 1.0115772792026325\n",
      "-------\n",
      "capital_run_length_average\n",
      "media : 5.191515105411866\n",
      "desvio padrão : 31.726000449297825\n",
      "-------\n",
      "capital_run_length_longest\n",
      "media : 52.17278852423386\n",
      "desvio padrão : 194.8701291417326\n",
      "-------\n"
     ]
    }
   ],
   "metadata": {}
  },
  {
   "cell_type": "code",
   "execution_count": 5,
   "source": [
    "for label in columns_list:\r\n",
    "    plt.scatter(df['spam_class'], df[label])\r\n",
    "    plt.xticks(np.arange(0, 2, step = 1))\r\n",
    "    plt.title(label)\r\n",
    "    plt.xlabel('spam_class')\r\n",
    "    plt.ylabel(label)\r\n",
    "    plt.show()"
   ],
   "outputs": [
    {
     "output_type": "display_data",
     "data": {
      "text/plain": [
       "<Figure size 432x288 with 1 Axes>"
      ],
      "image/png": "[encoded data removed]"
     },
     "metadata": {
      "needs_background": "light"
     }
    },
    {
     "output_type": "display_data",
     "data": {
      "text/plain": [
       "<Figure size 432x288 with 1 Axes>"
      ],
      "image/png": "[encoded data removed]"
     },
     "metadata": {
      "needs_background": "light"
     }
    },
    {
     "output_type": "display_data",
     "data": {
      "text/plain": [
       "<Figure size 432x288 with 1 Axes>"
      ],
      "image/png": "[encoded data removed]"
     },
     "metadata": {
      "needs_background": "light"
     }
    },
    {
     "output_type": "display_data",
     "data": {
      "text/plain": [
       "<Figure size 432x288 with 1 Axes>"
      ],
      "image/png": "[encoded data removed]"
     },
     "metadata": {
      "needs_background": "light"
     }
    },
    {
     "output_type": "display_data",
     "data": {
      "text/plain": [
       "<Figure size 432x288 with 1 Axes>"
      ],
      "image/png": "[encoded data removed]"
     },
     "metadata": {
      "needs_background": "light"
     }
    },
    {
     "output_type": "display_data",
     "data": {
      "text/plain": [
       "<Figure size 432x288 with 1 Axes>"
      ],
      "image/png": "[encoded data removed]"
     },
     "metadata": {
      "needs_background": "light"
     }
    },
    {
     "output_type": "display_data",
     "data": {
      "text/plain": [
       "<Figure size 432x288 with 1 Axes>"
      ],
      "image/png": "[encoded data removed]"
     },
     "metadata": {
      "needs_background": "light"
     }
    },
    {
     "output_type": "display_data",
     "data": {
      "text/plain": [
       "<Figure size 432x288 with 1 Axes>"
      ],
      "image/png": "[encoded data removed]"
     },
     "metadata": {
      "needs_background": "light"
     }
    }
   ],
   "metadata": {}
  },
  {
   "cell_type": "code",
   "execution_count": 6,
   "source": [
    "df_c = df.drop(columns=['word_freq_font', 'word_freq_hp', 'word_freq_george', 'word_freq_re', 'word_freq_3d', 'word_freq_address']).copy()"
   ],
   "outputs": [],
   "metadata": {}
  },
  {
   "cell_type": "code",
   "execution_count": 7,
   "source": [
    "x = df_c[df_c.columns[:-1]].values\r\n",
    "y = df_c['spam_class'].values\r\n",
    "sc = StandardScaler()\r\n",
    "x = sc.fit_transform(x, y)"
   ],
   "outputs": [],
   "metadata": {}
  },
  {
   "cell_type": "code",
   "execution_count": 8,
   "source": [
    "model1 = [DecisionTreeClassifier(), \"Decision Tree\"]\r\n",
    "model2 = [MLPClassifier(hidden_layer_sizes=(20,2), max_iter=1000), \"MLP\"]\r\n",
    "model3 = [RandomForestClassifier(), \"Random Forest\"]\r\n",
    "model4 = [SVC(kernel='linear'),'SVM-Linear']\r\n",
    "\r\n",
    "models = [model1, model2, model3, model4]"
   ],
   "outputs": [],
   "metadata": {}
  },
  {
   "cell_type": "code",
   "execution_count": 9,
   "source": [
    "skf = StratifiedKFold(n_splits=10)\r\n",
    "\r\n",
    "for mod in models:\r\n",
    "    acc = []\r\n",
    "    f1 = []\r\n",
    "    precision = []\r\n",
    "\r\n",
    "    for train_indexs, test_indexs in skf.split(x, y):\r\n",
    "        x_train, y_train = x[train_indexs], y[train_indexs]\r\n",
    "        x_test, y_test = x[test_indexs], y[test_indexs]\r\n",
    "        model = mod[0]\r\n",
    "        model.fit(x_train, y_train)\r\n",
    "        y_predicted = model.predict(x_test)\r\n",
    "        accuracy = accuracy_score(y_test, y_predicted)\r\n",
    "        f1_scr = f1_score(y_test, y_predicted)\r\n",
    "        prec_score = precision_score(y_test, y_predicted)\r\n",
    "        matrix = confusion_matrix(y_test, y_predicted)\r\n",
    "        acc.append(accuracy)\r\n",
    "        f1.append(f1_scr)\r\n",
    "        precision.append(prec_score)\r\n",
    "        print(matrix)\r\n",
    "        print()\r\n",
    "\r\n",
    "    print(f\"{mod[1]}, Accuracy:\\t{np.mean(acc):.2f} +/- {np.std(acc):.2f}\")\r\n",
    "    print(f\"{mod[1]}, F1 Score:\\t{np.mean(f1):.2f} +/- {np.std(f1):.2f}\")\r\n",
    "    print(f\"{mod[1]}, Precision:\\t{np.mean(precision):.2f} +/- {np.std(precision):.2f}\")\r\n",
    "    print(\"-\"*60)"
   ],
   "outputs": [
    {
     "output_type": "stream",
     "name": "stdout",
     "text": [
      "[[255  24]\n",
      " [ 24 158]]\n",
      "\n",
      "[[259  19]\n",
      " [ 21 161]]\n",
      "\n",
      "[[255  23]\n",
      " [ 25 157]]\n",
      "\n",
      "[[256  23]\n",
      " [ 25 156]]\n",
      "\n",
      "[[247  32]\n",
      " [ 22 159]]\n",
      "\n",
      "[[256  23]\n",
      " [ 17 164]]\n",
      "\n",
      "[[270   9]\n",
      " [ 35 146]]\n",
      "\n",
      "[[248  31]\n",
      " [ 21 160]]\n",
      "\n",
      "[[234  45]\n",
      " [ 24 157]]\n",
      "\n",
      "[[234  45]\n",
      " [ 35 146]]\n",
      "\n",
      "Decision Tree, Accuracy:\t0.89 +/- 0.03\n",
      "Decision Tree, F1 Score:\t0.86 +/- 0.03\n",
      "Decision Tree, Precision:\t0.85 +/- 0.05\n",
      "------------------------------------------------------------\n",
      "[[266  13]\n",
      " [ 31 151]]\n",
      "\n",
      "[[267  11]\n",
      " [ 22 160]]\n",
      "\n",
      "[[264  14]\n",
      " [ 23 159]]\n",
      "\n",
      "[[264  15]\n",
      " [ 22 159]]\n",
      "\n",
      "[[266  13]\n",
      " [ 13 168]]\n",
      "\n",
      "[[257  22]\n",
      " [ 13 168]]\n",
      "\n",
      "[[271   8]\n",
      " [ 21 160]]\n",
      "\n",
      "[[265  14]\n",
      " [ 16 165]]\n",
      "\n",
      "[[227  52]\n",
      " [ 14 167]]\n",
      "\n",
      "[[257  22]\n",
      " [ 38 143]]\n",
      "\n",
      "MLP, Accuracy:\t0.91 +/- 0.03\n",
      "MLP, F1 Score:\t0.89 +/- 0.03\n",
      "MLP, Precision:\t0.90 +/- 0.05\n",
      "------------------------------------------------------------\n"
     ]
    }
   ],
   "metadata": {}
  },
  {
   "cell_type": "code",
   "execution_count": null,
   "source": [],
   "outputs": [],
   "metadata": {}
  }
 ]
}